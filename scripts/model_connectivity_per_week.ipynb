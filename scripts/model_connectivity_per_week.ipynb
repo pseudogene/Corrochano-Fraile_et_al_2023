{
 "cells": [
  {
   "cell_type": "markdown",
   "id": "7f4fff91",
   "metadata": {},
   "source": [
    "#  Model connectivity"
   ]
  },
  {
   "cell_type": "markdown",
   "id": "2be9e08e",
   "metadata": {},
   "source": [
    "### R Dependancies"
   ]
  },
  {
   "cell_type": "markdown",
   "id": "75cdd6fb",
   "metadata": {},
   "source": [
    "* tidygraph v1.2.2\n",
    "* igraph v1.3.4\n",
    "* ggraph v2.1.0\n",
    "* ggrepel v0.9.2\n",
    "* terra v1.6-47\n",
    "* tidyterra v0.3.1\n",
    "* purrr v1.0.1"
   ]
  },
  {
   "cell_type": "code",
   "execution_count": null,
   "id": "6f2d89b3",
   "metadata": {},
   "outputs": [],
   "source": [
    "# Install packages if needed\n",
    "\n",
    "#install.packages(\"terra\");\n",
    "#install.packages(\"tidyterra\");\n",
    "#install.packages(\"tidygraph\");\n",
    "#install.packages(\"igraph\");\n",
    "#install.packages(\"ggraph\");\n",
    "#install.packages(\"ggrepel\");\n",
    "#install.packages(\"purrr\");"
   ]
  },
  {
   "cell_type": "markdown",
   "id": "bead6fe3",
   "metadata": {},
   "source": [
    "### Load packages"
   ]
  },
  {
   "cell_type": "code",
   "execution_count": null,
   "id": "30e41dfe",
   "metadata": {
    "scrolled": true
   },
   "outputs": [],
   "source": [
    "# Load packages\n",
    "\n",
    "library(terra);\n",
    "library(tidyterra);\n",
    "library(tidygraph);\n",
    "library(igraph);\n",
    "library(ggraph);\n",
    "library(ggrepel);\n",
    "library(purrr);"
   ]
  },
  {
   "cell_type": "code",
   "execution_count": null,
   "id": "0610d3b5",
   "metadata": {},
   "outputs": [],
   "source": [
    "# For reproductivity and visualisation in Jupyter\n",
    "\n",
    "set.seed(0);\n",
    "setwd(\"..\");\n",
    "options(repr.plot.width=16, repr.plot.height=8);"
   ]
  },
  {
   "cell_type": "code",
   "execution_count": null,
   "id": "fd2ccf9c",
   "metadata": {},
   "outputs": [],
   "source": [
    "# Load UK Map\n",
    "fn <- file.path(tempdir(), \"gadm41_GBR_shp.zip\", fsep = \"\\\\\")\n",
    "download.file(\"https://geodata.ucdavis.edu/gadm/gadm4.1/shp/gadm41_GBR_shp.zip\", fn)\n",
    "utils::unzip(fn, exdir = tempdir())\n",
    "shp <- vect(file.path(tempdir(), \"gadm41_GBR_1.shp\"))"
   ]
  },
  {
   "cell_type": "markdown",
   "id": "9d2b3161",
   "metadata": {},
   "source": [
    "### Read data (2020)"
   ]
  },
  {
   "cell_type": "code",
   "execution_count": null,
   "id": "e96200a4",
   "metadata": {},
   "outputs": [],
   "source": [
    "# Load the sources/target locations\n",
    "nodes <- as.data.frame(read.delim(\"data/allpoints.dat\", header=FALSE, col.names=c(\"Name\", \"Longitude\", \"Latitude\"), sep=\"\\t\"));\n",
    "nodes_selected <- as.data.frame(read.delim(\"data/samplepoints.dat\", header=FALSE, col.names=c(\"Name\", \"Date\", \"Longitude\", \"Latitude\"), sep=\"\\t\"));"
   ]
  },
  {
   "cell_type": "markdown",
   "id": "e29525e9",
   "metadata": {},
   "source": [
    "#### Month per month"
   ]
  },
  {
   "cell_type": "code",
   "execution_count": null,
   "id": "7705a876",
   "metadata": {},
   "outputs": [],
   "source": [
    "files <- list.files(path=\"data/\", pattern=\"^connectivity_2020.*\\\\.dat$\", all.files=TRUE, full.names=TRUE);\n",
    "\n",
    "edges <- NA;\n",
    "for (file in files) {\n",
    "  edges0 <- as.matrix(read.table(file, sep=\" \"));\n",
    "  if (!is.matrix(edges)) {\n",
    "    edges <- edges0;\n",
    "  } else {\n",
    "    edges <- edges + edges0;\n",
    "  }\n",
    "  \n",
    "  nodes0 <- nodes;\n",
    "  nodes0$Total <- 0;\n",
    "  # received larvae\n",
    "  for (i in 1:ncol(edges0)) { nodes0$Total[match(colnames(edges0)[i], nodes0$Name)] <- sum(edges0[,i],na.rm=TRUE); }   \n",
    "  \n",
    "  g <- graph.adjacency(edges0, weighted=TRUE);\n",
    "  edges_list <- get.data.frame(g);\n",
    "  edges_list <- edges_list[which(edges_list$from %in% nodes_selected$Name & edges_list$to %in% nodes_selected$Name),];\n",
    "  nodes_list <- nodes[which(nodes0$Name %in% edges_list$to | nodes0$Name %in% edges_list$from),];\n",
    "\n",
    "  for (i in 1:nrow(edges_list)) { edges_list$ratio[i]<-edges_list$weight[i]/nodes0$Total[which(nodes0$Name == edges_list$to[i])];}\n",
    "  particles_graph <- tbl_graph(nodes_list, edges_list, node_key= \"Name\");\n",
    "  particle_coord_layout <- create_layout(graph = particles_graph, layout = \"manual\", x = nodes_list$Longitude, y = nodes_list$Latitude);\n",
    "\n",
    "  ggnetwork <- ggraph(particle_coord_layout, aes(x, y, label = Name)) +\n",
    "     geom_sf(data = shp, fill = \"grey95\", colour = \"grey85\", show.legend = TRUE) +\n",
    "     geom_edge_diagonal(aes(alpha = 0.8), colour = \"#E3A031\") +\n",
    "     geom_point(aes(x, y, size = 1), colour=\"#E3A031\") +\n",
    "     geom_text_repel(aes(x, y, label = Name), alpha= .9) +\n",
    "     coord_sf(xlim = c(-8, -4), ylim = c(53.4, 58.6)) +\n",
    "     theme_void() + theme(legend.position = \"none\") + \n",
    "     ggtitle(file);\n",
    "  print(ggnetwork);\n",
    "}"
   ]
  },
  {
   "cell_type": "markdown",
   "id": "2cd2d028",
   "metadata": {},
   "source": [
    "#### February to June"
   ]
  },
  {
   "cell_type": "code",
   "execution_count": null,
   "id": "3f86a40c",
   "metadata": {},
   "outputs": [],
   "source": [
    "nodes$Total <- 0;\n",
    "# received larvae\n",
    "for (i in 1:ncol(edges)) { nodes$Total[match(colnames(edges)[i], nodes$Name)] <- sum(edges[,i],na.rm=TRUE); }   \n",
    "  \n",
    "g <- graph.adjacency(edges, weighted=TRUE);"
   ]
  },
  {
   "cell_type": "code",
   "execution_count": null,
   "id": "929faf7b",
   "metadata": {},
   "outputs": [],
   "source": [
    "edges_list <- get.data.frame(g);\n",
    "edges_list <- edges_list[which(edges_list$from %in% nodes_selected$Name & edges_list$to %in% nodes_selected$Name),];\n",
    "nodes_list <- nodes[which(nodes$Name %in% edges_list$to | nodes$Name %in% edges_list$from),];"
   ]
  },
  {
   "cell_type": "code",
   "execution_count": null,
   "id": "6dcb47b6",
   "metadata": {},
   "outputs": [],
   "source": [
    "for (i in 1:nrow(edges_list)) { edges_list$ratio[i]<-edges_list$weight[i]/nodes$Total[which(nodes$Name == edges_list$to[i])];}\n",
    "particles_graph <- tbl_graph(nodes_list, edges_list, node_key= \"Name\");\n",
    "particle_coord_layout <- create_layout(graph = particles_graph, layout = \"manual\", x = nodes_list$Longitude, y = nodes_list$Latitude);"
   ]
  },
  {
   "cell_type": "code",
   "execution_count": null,
   "id": "339a346b",
   "metadata": {},
   "outputs": [],
   "source": [
    "# Plot the network on the map\n",
    "ggnetwork <- ggraph(particle_coord_layout, aes(x, y, label = Name)) +\n",
    "     geom_sf(data = shp, fill = \"grey95\", colour = \"grey85\", show.legend = TRUE) +\n",
    "     geom_edge_diagonal(aes(alpha = 0.8), colour = \"#E3A031\") +\n",
    "     geom_point(aes(x, y, size = 1), colour=\"#E3A031\") +\n",
    "     geom_text_repel(aes(x, y, label = Name), alpha= .9) +\n",
    "     coord_sf(xlim = c(-8, -4), ylim = c(53.4, 58.6)) +\n",
    "     theme_void() + theme(legend.position = \"none\") + \n",
    "     ggtitle(\"2020 (accumulation)\");\n",
    "ggnetwork;"
   ]
  },
  {
   "cell_type": "code",
   "execution_count": null,
   "id": "4f3675b9",
   "metadata": {},
   "outputs": [],
   "source": [
    "adj_matrix <- ifelse(edges > 0, 1, 0)\n",
    "\n",
    "g <- graph_from_adjacency_matrix(adj_matrix);\n",
    "clp <-cluster_walktrap(g);"
   ]
  },
  {
   "cell_type": "code",
   "execution_count": null,
   "id": "b6621381",
   "metadata": {},
   "outputs": [],
   "source": [
    "# Colour nodes and links according to their cluster, the rest in grey\n",
    "V(g)$color <- clp$membership;\n",
    "a1 <- as.data.frame(get.edgelist(g));\n",
    "E(g)$color <- map2_dbl(a1$V1, a1$V2, ~{ \n",
    "  ifelse(\n",
    "    V(g)$color[V(g)[.x]] == \n",
    "      V(g)$color[V(g)[.y]], \n",
    "    V(g)$color[V(g)[.x]],\n",
    "    9999)\n",
    "}, .progress = TRUE);"
   ]
  },
  {
   "cell_type": "code",
   "execution_count": null,
   "id": "50655edb",
   "metadata": {},
   "outputs": [],
   "source": [
    "library(parallel);"
   ]
  },
  {
   "cell_type": "code",
   "execution_count": null,
   "id": "47ccd647",
   "metadata": {},
   "outputs": [],
   "source": [
    "# Calculate the layout using the Fruchterman-Reingold algorithm\n",
    "layout <- layout_with_fr(g);\n",
    "\n",
    "# Create the ggraph visualization with edges, nodes, and node colors\n",
    "ggnetwork2 <- ggraph(g, layout=layout) + \n",
    "  geom_edge_link0(aes(filter=color!=9999 ,color=as.factor(color)), width=0.6, alpha=0.35) +\n",
    "  geom_edge_link0(aes(filter=color==9999), color='grey', width=0.5, alpha=0.25) +\n",
    "  geom_node_point(aes(color=as.factor(color)), size=3, alpha=0.75) +\n",
    "  geom_node_text(aes(label = name), vjust = 1.5, size = 3, color = \"black\") +\n",
    "  theme_void() + theme(legend.position = \"none\") + \n",
    "  ggtitle(\"2020 (accumulation)\");\n",
    "ggnetwork2;"
   ]
  },
  {
   "cell_type": "markdown",
   "id": "1a5c6cb3",
   "metadata": {},
   "source": [
    "### Read data (2021)¶"
   ]
  },
  {
   "cell_type": "code",
   "execution_count": null,
   "id": "04d75255",
   "metadata": {},
   "outputs": [],
   "source": [
    "# Load the sources/target locations\n",
    "nodes <- as.data.frame(read.delim(\"data/allpoints.dat\", header=FALSE, col.names=c(\"Name\", \"Longitude\", \"Latitude\"), sep=\"\\t\"));\n",
    "nodes_selected <- as.data.frame(read.delim(\"data/samplepoints.dat\", header=FALSE, col.names=c(\"Name\", \"Date\", \"Longitude\", \"Latitude\"), sep=\"\\t\"));"
   ]
  },
  {
   "cell_type": "markdown",
   "id": "715d9941",
   "metadata": {},
   "source": [
    "#### Month per month¶"
   ]
  },
  {
   "cell_type": "code",
   "execution_count": null,
   "id": "d866e3da",
   "metadata": {},
   "outputs": [],
   "source": [
    "files <- list.files(path=\"data/\", pattern=\"^connectivity_2021.*\\\\.dat$\", all.files=TRUE, full.names=TRUE);\n",
    "\n",
    "edges <- NA;\n",
    "for (file in files) {\n",
    "  edges0 <- as.matrix(read.table(file, sep=\" \"));\n",
    "  if (!is.matrix(edges)) {\n",
    "    edges <- edges0;\n",
    "  } else {\n",
    "    edges <- edges + edges0;\n",
    "  }\n",
    "  \n",
    "  nodes0 <- nodes;\n",
    "  nodes0$Total <- 0;\n",
    "  # received larvae\n",
    "  for (i in 1:ncol(edges0)) { nodes0$Total[match(colnames(edges0)[i], nodes0$Name)] <- sum(edges0[,i],na.rm=TRUE); }   \n",
    "  \n",
    "  g <- graph.adjacency(edges0, weighted=TRUE);\n",
    "  edges_list <- get.data.frame(g);\n",
    "  edges_list <- edges_list[which(edges_list$from %in% nodes_selected$Name & edges_list$to %in% nodes_selected$Name),];\n",
    "  nodes_list <- nodes[which(nodes0$Name %in% edges_list$to | nodes0$Name %in% edges_list$from),];\n",
    "\n",
    "  for (i in 1:nrow(edges_list)) { edges_list$ratio[i]<-edges_list$weight[i]/nodes0$Total[which(nodes0$Name == edges_list$to[i])];}\n",
    "  particles_graph <- tbl_graph(nodes_list, edges_list, node_key= \"Name\");\n",
    "  particle_coord_layout <- create_layout(graph = particles_graph, layout = \"manual\", x = nodes_list$Longitude, y = nodes_list$Latitude);\n",
    "\n",
    "  ggnetwork <- ggraph(particle_coord_layout, aes(x, y, label = Name)) +\n",
    "     geom_sf(data = shp, fill = \"grey95\", colour = \"grey85\", show.legend = TRUE) +\n",
    "     geom_edge_diagonal(aes(alpha = 0.8), colour = \"#E3A031\") +\n",
    "     geom_point(aes(x, y, size = 1), colour=\"#E3A031\") +\n",
    "     geom_text_repel(aes(x, y, label = Name), alpha= .9) +\n",
    "     coord_sf(xlim = c(-8, -4), ylim = c(53.4, 58.6)) +\n",
    "     theme_void() + theme(legend.position = \"none\") + \n",
    "     ggtitle(file);\n",
    "  print(ggnetwork);\n",
    "}"
   ]
  },
  {
   "cell_type": "markdown",
   "id": "716a946c",
   "metadata": {},
   "source": [
    "#### February to June"
   ]
  },
  {
   "cell_type": "code",
   "execution_count": null,
   "id": "36d523d6",
   "metadata": {},
   "outputs": [],
   "source": [
    "nodes$Total <- 0;\n",
    "# received larvae\n",
    "for (i in 1:ncol(edges)) { nodes$Total[match(colnames(edges)[i], nodes$Name)] <- sum(edges[,i],na.rm=TRUE); }   \n",
    "  \n",
    "g <- graph.adjacency(edges, weighted=TRUE);"
   ]
  },
  {
   "cell_type": "code",
   "execution_count": null,
   "id": "f53fb6f0",
   "metadata": {},
   "outputs": [],
   "source": [
    "edges_list <- get.data.frame(g);\n",
    "edges_list <- edges_list[which(edges_list$from %in% nodes_selected$Name & edges_list$to %in% nodes_selected$Name),];\n",
    "nodes_list <- nodes[which(nodes$Name %in% edges_list$to | nodes$Name %in% edges_list$from),];"
   ]
  },
  {
   "cell_type": "code",
   "execution_count": null,
   "id": "4ef6af5c",
   "metadata": {},
   "outputs": [],
   "source": [
    "for (i in 1:nrow(edges_list)) { edges_list$ratio[i]<-edges_list$weight[i]/nodes$Total[which(nodes$Name == edges_list$to[i])];}\n",
    "particles_graph <- tbl_graph(nodes_list, edges_list, node_key= \"Name\");\n",
    "particle_coord_layout <- create_layout(graph = particles_graph, layout = \"manual\", x = nodes_list$Longitude, y = nodes_list$Latitude);"
   ]
  },
  {
   "cell_type": "code",
   "execution_count": null,
   "id": "a11f0bf6",
   "metadata": {},
   "outputs": [],
   "source": [
    "# Plot the network on the map\n",
    "ggnetwork <- ggraph(particle_coord_layout, aes(x, y, label = Name)) +\n",
    "     geom_sf(data = shp, fill = \"grey95\", colour = \"grey85\", show.legend = TRUE) +\n",
    "     geom_edge_diagonal(aes(alpha = 0.8), colour = \"#E3A031\") +\n",
    "     geom_point(aes(x, y, size = 1), colour=\"#E3A031\") +\n",
    "     geom_text_repel(aes(x, y, label = Name), alpha= .9) +\n",
    "     coord_sf(xlim = c(-8, -4), ylim = c(53.4, 58.6)) +\n",
    "     theme_void() + theme(legend.position = \"none\") + \n",
    "     ggtitle(\"2021 (accumulation)\");\n",
    "ggnetwork;"
   ]
  },
  {
   "cell_type": "code",
   "execution_count": null,
   "id": "0a691893",
   "metadata": {},
   "outputs": [],
   "source": [
    "adj_matrix <- ifelse(edges > 0, 1, 0)\n",
    "\n",
    "g <- graph_from_adjacency_matrix(adj_matrix);\n",
    "clp <-cluster_walktrap(g);"
   ]
  },
  {
   "cell_type": "code",
   "execution_count": null,
   "id": "ee27188e",
   "metadata": {},
   "outputs": [],
   "source": [
    "# Colour nodes and links according to their cluster, the rest in grey\n",
    "V(g)$color <- clp$membership;\n",
    "a1 <- as.data.frame(get.edgelist(g));\n",
    "E(g)$color <- map2_dbl(a1$V1, a1$V2, ~ { \n",
    "  ifelse(\n",
    "    V(g)$color[V(g)[.x]] == \n",
    "      V(g)$color[V(g)[.y]], \n",
    "    V(g)$color[V(g)[.x]],\n",
    "    9999)\n",
    "});"
   ]
  },
  {
   "cell_type": "code",
   "execution_count": null,
   "id": "8769b06a",
   "metadata": {},
   "outputs": [],
   "source": [
    "# Calculate the layout using the Fruchterman-Reingold algorithm\n",
    "layout <- layout_with_fr(g);\n",
    "\n",
    "# Create the ggraph visualization with edges, nodes, and node colors\n",
    "ggnetwork2 <- ggraph(g, layout=layout) + \n",
    "  geom_edge_link0(aes(filter=color!=9999 ,color=as.factor(color)), width=0.6, alpha=0.35) +\n",
    "  geom_edge_link0(aes(filter=color==9999), color='grey', width=0.5, alpha=0.25) +\n",
    "  geom_node_point(aes(color=as.factor(color)), size=3, alpha=0.75) +\n",
    "  geom_node_text(aes(label = name), vjust = 1.5, size = 3, color = \"black\") +\n",
    "  theme_void() + theme(legend.position = \"none\") + \n",
    "  ggtitle(\"2021 (accumulation)\");\n",
    "ggnetwork2;"
   ]
  },
  {
   "cell_type": "code",
   "execution_count": null,
   "id": "9b2fdaf2",
   "metadata": {},
   "outputs": [],
   "source": []
  }
 ],
 "metadata": {
  "kernelspec": {
   "display_name": "R",
   "language": "R",
   "name": "ir"
  },
  "language_info": {
   "codemirror_mode": "r",
   "file_extension": ".r",
   "mimetype": "text/x-r-source",
   "name": "R",
   "pygments_lexer": "r",
   "version": "4.2.0"
  }
 },
 "nbformat": 4,
 "nbformat_minor": 5
}
