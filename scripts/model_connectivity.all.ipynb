{
 "cells": [
  {
   "cell_type": "markdown",
   "id": "7f4fff91",
   "metadata": {},
   "source": [
    "#  Model connectivity"
   ]
  },
  {
   "cell_type": "markdown",
   "id": "2be9e08e",
   "metadata": {},
   "source": [
    "### R Dependancies"
   ]
  },
  {
   "cell_type": "markdown",
   "id": "75cdd6fb",
   "metadata": {},
   "source": [
    "* tidygraph v1.2.2\n",
    "* igraph v1.3.4\n",
    "* ggraph v2.1.0\n",
    "* ggrepel v0.9.2\n",
    "* terra v1.6-47\n",
    "* tidyterra v0.3.1"
   ]
  },
  {
   "cell_type": "code",
   "execution_count": null,
   "id": "6f2d89b3",
   "metadata": {},
   "outputs": [],
   "source": [
    "# Install packages if needed\n",
    "\n",
    "#install.packages(\"terra\");\n",
    "#install.packages(\"tidyterra\");\n",
    "#install.packages(\"tidygraph\");\n",
    "#install.packages(\"igraph\");\n",
    "#install.packages(\"ggraph\");\n",
    "#install.packages(\"ggrepel\");"
   ]
  },
  {
   "cell_type": "markdown",
   "id": "bead6fe3",
   "metadata": {},
   "source": [
    "### Load packages"
   ]
  },
  {
   "cell_type": "code",
   "execution_count": null,
   "id": "30e41dfe",
   "metadata": {
    "scrolled": true
   },
   "outputs": [],
   "source": [
    "# Load packages\n",
    "\n",
    "library(terra);\n",
    "library(tidyterra);\n",
    "library(tidygraph);\n",
    "library(igraph);\n",
    "library(ggraph);\n",
    "library(ggrepel);"
   ]
  },
  {
   "cell_type": "code",
   "execution_count": null,
   "id": "0610d3b5",
   "metadata": {},
   "outputs": [],
   "source": [
    "# For reproductivity and visualisation in Jupyter\n",
    "\n",
    "set.seed(0);\n",
    "setwd(\"..\");\n",
    "options(repr.plot.width=16, repr.plot.height=8);"
   ]
  },
  {
   "cell_type": "markdown",
   "id": "9d2b3161",
   "metadata": {},
   "source": [
    "### Read data (e.g. April 5th to May 8th 2021)"
   ]
  },
  {
   "cell_type": "code",
   "execution_count": null,
   "id": "fd2ccf9c",
   "metadata": {},
   "outputs": [],
   "source": [
    "# Load UK Map\n",
    "fn <- file.path(tempdir(), \"gadm41_GBR_shp.zip\", fsep = \"\\\\\")\n",
    "download.file(\"https://geodata.ucdavis.edu/gadm/gadm4.1/shp/gadm41_GBR_shp.zip\", fn)\n",
    "utils::unzip(fn, exdir = tempdir())\n",
    "shp <- vect(file.path(tempdir(), \"gadm41_GBR_1.shp\"))"
   ]
  },
  {
   "cell_type": "code",
   "execution_count": null,
   "id": "5c8c2fb0",
   "metadata": {},
   "outputs": [],
   "source": [
    "# Load the sources/target locations\n",
    "nodes <- as.data.frame(read.delim(\"data/allpoints.dat\", header=FALSE, col.names=c(\"Name\", \"Longitude\", \"Latitude\"), sep=\"\\t\"));\n",
    "nodes_selected <- as.data.frame(read.delim(\"data/samplepoints.dat\", header=FALSE, col.names=c(\"Name\", \"Date\", \"Longitude\", \"Latitude\"), sep=\"\\t\"));\n",
    "\n",
    "\n",
    "# Load the connectivity_*.dat files for the last 7 days of the simulation and add the matrixes\n",
    "files <- file.path(path=\".\", c('connectivity_20210502_648.dat', 'connectivity_20210503_672.dat', 'connectivity_20210504_696.dat', 'connectivity_20210505_720.dat', 'connectivity_20210506_744.dat' ,'connectivity_20210507_768.dat', 'connectivity_20210508_792.dat'));\n",
    "edges <- NA\n",
    "for (file in files) {\n",
    "  edges0 <- as.matrix(read.table(file, sep=\" \"));\n",
    "  if (!is.matrix(edges)) {\n",
    "    edges <- edges0;\n",
    "  } else {\n",
    "    edges <- edges + edges0;\n",
    "  }\n",
    "}\n",
    "\n",
    "nodes$Total <- 0\n",
    "# received larvae\n",
    "for (i in 1:ncol(edges)) { nodes$Total[match(colnames(edges)[i], nodes$Name)] <- sum(edges[,i],na.rm=TRUE); }\n",
    "# contributed larvae\n",
    "#for (i in 1:nrow(edges)) { nodes$Total[match(rownames(edges)[i], nodes$Name)] <- sum(edges[i,],na.rm=TRUE); }\n",
    "\n",
    "colnames(edges) <- nodes$Name;\n",
    "row.names(edges) <- nodes$Name;\n",
    "\n",
    "g <- graph.adjacency(edges, weighted=TRUE);"
   ]
  },
  {
   "cell_type": "markdown",
   "id": "48db955b",
   "metadata": {},
   "source": [
    "### All connections"
   ]
  },
  {
   "cell_type": "code",
   "execution_count": null,
   "id": "929faf7b",
   "metadata": {},
   "outputs": [],
   "source": [
    "edges_list <- get.data.frame(g);\n",
    "edges_list <- edges_list[which(edges_list$from %in% nodes$Name & edges_list$to %in% nodes$Name),];\n",
    "nodes_list <- nodes[which(nodes$Name %in% edges_list$to | nodes$Name %in% edges_list$from),];"
   ]
  },
  {
   "cell_type": "code",
   "execution_count": null,
   "id": "6dcb47b6",
   "metadata": {},
   "outputs": [],
   "source": [
    "for (i in 1:nrow(edges_list)) { edges_list$ratio[i]<-edges_list$weight[i]/nodes$Total[which(nodes$Name == edges_list$to[i])];}\n",
    "particles_graph <- tbl_graph(nodes_list, edges_list, node_key= \"Name\");\n",
    "particle_coord_layout <- create_layout(graph = particles_graph, layout = \"manual\", x = nodes_list$Longitude, y = nodes_list$Latitude);"
   ]
  },
  {
   "cell_type": "code",
   "execution_count": null,
   "id": "339a346b",
   "metadata": {},
   "outputs": [],
   "source": [
    "# Plot the network on the map\n",
    "ggnetwork <- ggraph(particle_coord_layout, aes(x, y, label = Name)) +\n",
    "     geom_sf(data = shp, fill = \"grey95\", colour = \"grey85\", show.legend = TRUE) +\n",
    "     geom_edge_diagonal(aes(alpha = weight, width = weight), colour = \"#E3A031\") +\n",
    "     geom_point(aes(x, y, size = Total), colour=\"#E3A031\") +\n",
    "     geom_text_repel(aes(x, y, size = Total, label = Name), alpha= .9) +\n",
    "     scale_edge_width_continuous(range = c(1, 4)) +\n",
    "     scale_edge_alpha(range = c(0.15, 0.85)) +\n",
    "     scale_size(range = c(2, 5)) +\n",
    "     coord_sf(xlim = c(-8, -4), ylim = c(53.4, 58.6)) +\n",
    "     theme_void() + theme(legend.position = \"none\");\n",
    "ggnetwork;"
   ]
  },
  {
   "cell_type": "code",
   "execution_count": null,
   "id": "ae2ebb0c",
   "metadata": {},
   "outputs": [],
   "source": [
    "# For publication only\n",
    "\n",
    "#png(\"Figure_Model_ALL.raw.png\", 600, 300);\n",
    "#ggnetwork;\n",
    "#dev.off();"
   ]
  },
  {
   "cell_type": "markdown",
   "id": "1959527b",
   "metadata": {},
   "source": [
    "### Select informative locations/nodes only"
   ]
  },
  {
   "cell_type": "code",
   "execution_count": null,
   "id": "367a717a",
   "metadata": {},
   "outputs": [],
   "source": [
    "edges_list <- get.data.frame(g);\n",
    "edges_list <- edges_list[which(edges_list$from %in% nodes_selected$Name & edges_list$to %in% nodes_selected$Name),];\n",
    "nodes_list <- nodes[which(nodes$Name %in% edges_list$to | nodes$Name %in% edges_list$from),];"
   ]
  },
  {
   "cell_type": "markdown",
   "id": "d494d3a1",
   "metadata": {},
   "source": [
    "### Plot the network"
   ]
  },
  {
   "cell_type": "code",
   "execution_count": null,
   "id": "4e0f4143",
   "metadata": {},
   "outputs": [],
   "source": [
    "particles_graph <- tbl_graph(nodes_list, edges_list, node_key= \"Name\");\n",
    "particle_coord_layout <- create_layout(graph = particles_graph, layout = \"manual\", x = nodes_list$Longitude, y = nodes_list$Latitude);"
   ]
  },
  {
   "cell_type": "code",
   "execution_count": null,
   "id": "e86adf53",
   "metadata": {},
   "outputs": [],
   "source": [
    "# Plot the network on the map\n",
    "ggnetwork <- ggraph(particle_coord_layout, aes(x, y, label = Name)) +\n",
    "     geom_sf(data = shp, fill = \"grey95\", colour = \"grey85\", show.legend = TRUE) +\n",
    "     geom_edge_diagonal(aes(alpha = weight, width = weight), colour = \"#E3A031\") +\n",
    "     geom_point(aes(x, y, size = Total), colour=\"#E3A031\") +\n",
    "     geom_text_repel(aes(x, y, size = Total, label = Name), alpha= .9) +\n",
    "     scale_edge_width_continuous(range = c(1, 4)) +\n",
    "     scale_edge_alpha(range = c(0.15, 0.85)) +\n",
    "     scale_size(range = c(2, 5)) +\n",
    "     coord_sf(xlim = c(-7.8, -4.8), ylim = c(55.8, 58.6)) +\n",
    "     theme_void() + theme(legend.position = \"none\");\n",
    "ggnetwork;"
   ]
  },
  {
   "cell_type": "code",
   "execution_count": null,
   "id": "d1c24718",
   "metadata": {},
   "outputs": [],
   "source": [
    "edges_list"
   ]
  },
  {
   "cell_type": "code",
   "execution_count": null,
   "id": "dca4c579",
   "metadata": {},
   "outputs": [],
   "source": [
    "# For publication only\n",
    "\n",
    "#png(\"Figure_Model.raw.png\", 600, 300);\n",
    "#ggnetwork;\n",
    "#dev.off();"
   ]
  },
  {
   "cell_type": "code",
   "execution_count": null,
   "id": "569f839a",
   "metadata": {},
   "outputs": [],
   "source": []
  }
 ],
 "metadata": {
  "kernelspec": {
   "display_name": "R",
   "language": "R",
   "name": "ir"
  },
  "language_info": {
   "codemirror_mode": "r",
   "file_extension": ".r",
   "mimetype": "text/x-r-source",
   "name": "R",
   "pygments_lexer": "r",
   "version": "4.2.0"
  }
 },
 "nbformat": 4,
 "nbformat_minor": 5
}
