{
 "cells": [
  {
   "cell_type": "markdown",
   "id": "7f4fff91",
   "metadata": {},
   "source": [
    "# Population connectivity"
   ]
  },
  {
   "cell_type": "markdown",
   "id": "2be9e08e",
   "metadata": {},
   "source": [
    "### R Dependancies"
   ]
  },
  {
   "cell_type": "markdown",
   "id": "75cdd6fb",
   "metadata": {},
   "source": [
    "* vcfR v1.13.0\n",
    "* Rtsne v0.16\n",
    "* adegenet v2.1.8\n",
    "* dartR v2.7.2\n",
    "* tidyverse v1.3.2\n",
    "* reshape2 v1.4.4"
   ]
  },
  {
   "cell_type": "code",
   "execution_count": null,
   "id": "6f2d89b3",
   "metadata": {},
   "outputs": [],
   "source": [
    "# Install packages if needed\n",
    "\n",
    "#install.packages(\"vcfR\");\n",
    "#install.packages(\"Rtsne\");\n",
    "#install.packages(\"adegenet\");\n",
    "#install.packages(\"dartR\");\n",
    "#install.packages(\"tidyverse\");\n",
    "#install.packages(\"reshape2\");"
   ]
  },
  {
   "cell_type": "markdown",
   "id": "bead6fe3",
   "metadata": {},
   "source": [
    "### Load packages"
   ]
  },
  {
   "cell_type": "code",
   "execution_count": null,
   "id": "30e41dfe",
   "metadata": {
    "scrolled": true
   },
   "outputs": [],
   "source": [
    "# Load packages\n",
    "\n",
    "library(vcfR);\n",
    "library(Rtsne);\n",
    "library(adegenet);\n",
    "library(dartR);\n",
    "library(tidyverse);\n",
    "library(reshape2);"
   ]
  },
  {
   "cell_type": "code",
   "execution_count": null,
   "id": "0610d3b5",
   "metadata": {},
   "outputs": [],
   "source": [
    "# For reproductivity and visualisation in Jupyter\n",
    "\n",
    "set.seed(0);\n",
    "setwd(\"..\");\n",
    "options(repr.plot.width=16, repr.plot.height=8);"
   ]
  },
  {
   "cell_type": "markdown",
   "id": "9d2b3161",
   "metadata": {},
   "source": [
    "### Read data"
   ]
  },
  {
   "cell_type": "code",
   "execution_count": null,
   "id": "367a717a",
   "metadata": {},
   "outputs": [],
   "source": [
    "# Load genotypes fon VCF file\n",
    "\n",
    "gt.vcf <- read.vcfR(\"mussels.snps.vcf.gz\");\n",
    "gt.vcf;"
   ]
  },
  {
   "cell_type": "code",
   "execution_count": null,
   "id": "2b5fb7c8",
   "metadata": {},
   "outputs": [],
   "source": [
    "# Load metadata\n",
    "\n",
    "population <- read.delim(\"data/species.pop.tsv\", header=FALSE, sep=\"\\t\", col.names=c(\"sample\", \"group\", \"colour\", \"loch\", \"age\", \"id\", \"larvaeYear\"));\n",
    "head(population);"
   ]
  },
  {
   "cell_type": "markdown",
   "id": "c299d08d",
   "metadata": {},
   "source": [
    "## Fst"
   ]
  },
  {
   "cell_type": "code",
   "execution_count": null,
   "id": "bd7bc093",
   "metadata": {},
   "outputs": [],
   "source": [
    "gl.mussel <- vcfR2genlight(gt.vcf);\n",
    "pop(gl.mussel) <- population$id;"
   ]
  },
  {
   "cell_type": "code",
   "execution_count": null,
   "id": "eb1b72f0",
   "metadata": {},
   "outputs": [],
   "source": [
    "# Calculate Fst\n",
    "gl.ft <- gl.fst.pop(gl.mussel, nboots = 1000, percent = 99, nclusters = 1, verbose = NULL);\n",
    "gl.ft$Fsts;"
   ]
  },
  {
   "cell_type": "code",
   "execution_count": null,
   "id": "9672a460",
   "metadata": {},
   "outputs": [],
   "source": [
    "melted <- melt(gl.ft$Fsts, na.rm =TRUE);\n",
    "melted_p <- melt(gl.ft$Pvalues, na.rm =TRUE);\n",
    "melted <- cbind(melted, melted_p);\n",
    "melted <- melted[c(1,2,3,6)];\n",
    "melted$value.1 <- ifelse(melted$value.1>0.001,1,0);\n",
    "\n",
    "ggplot(data = melted, aes(Var2, Var1, fill = value)) + theme_classic() + geom_tile(color = \"white\") + scale_fill_gradient(low = \"white\", high = \"blue\", name=\"Fst\") + geom_point(aes(alpha=value.1) ,colour=\"black\", stroke=NA) + scale_alpha_continuous(range=c(0, 1), guide=\"none\") + labs( x = \"Sampling Site\", y = \"Sampling Site\") + theme(axis.text.x = element_text(angle = 45, vjust = 1, size = 11, hjust = 1), axis.text.y = element_text(size = 12), axis.ticks=element_blank(), axis.line=element_blank()) +  coord_fixed();"
   ]
  },
  {
   "cell_type": "code",
   "execution_count": null,
   "id": "0dd02b8b",
   "metadata": {},
   "outputs": [],
   "source": [
    "# For publication only\n",
    "\n",
    "#png(\"Figure_Fst.raw.png\", 600, 300);\n",
    "#ggplot(data = melted, aes(Var2, Var1, fill = value)) + theme_classic() + geom_tile(color = \"white\") + scale_fill_gradient(low = \"white\", high = \"blue\", name=\"Fst\") + geom_point(aes(alpha=value.1) ,colour=\"black\", stroke=NA) + scale_alpha_continuous(range=c(0, 1), guide=\"none\") + labs( x = \"Sampling Site\", y = \"Sampling Site\") + theme(axis.text.x = element_text(angle = 45, vjust = 1, size = 11, hjust = 1), axis.text.y = element_text(size = 12), axis.ticks=element_blank(), axis.line=element_blank()) +  coord_fixed();\n",
    "#dev.off();"
   ]
  },
  {
   "cell_type": "markdown",
   "id": "f5d0e07a",
   "metadata": {},
   "source": [
    "## t-SNE analysis"
   ]
  },
  {
   "cell_type": "code",
   "execution_count": null,
   "id": "bab36085",
   "metadata": {},
   "outputs": [],
   "source": [
    "# Convert to matrix of genotypes\n",
    "\n",
    "gt <- as.data.frame(t(extract.gt(gt.vcf, element = 'GT', as.numeric = FALSE)));\n",
    "gt[gt == '0|0'] <- 0\n",
    "gt[gt == '1|1'] <- 2\n",
    "gt[gt == '0|1'] <- 1\n",
    "gt[gt == '1|0'] <- 1\n",
    "gt[is.na(gt)] <- 1; # replace NA by 1 (heterozygous)\n",
    "\n",
    "gt[] <- lapply(gt, function(x) as.numeric(as.character(x)))\n",
    "gt <- as.matrix(gt);\n",
    "\n",
    "head(gt);"
   ]
  },
  {
   "cell_type": "code",
   "execution_count": null,
   "id": "fb53f4a4",
   "metadata": {},
   "outputs": [],
   "source": [
    "# Run un-optimised t-SNE\n",
    "\n",
    "tsne_out <- Rtsne(gt, initial_dims = 2, perplexity = 20, theta = 0.5, max_iter = 1000);"
   ]
  },
  {
   "cell_type": "code",
   "execution_count": null,
   "id": "1fb4879b",
   "metadata": {},
   "outputs": [],
   "source": [
    "plot(tsne_out$Y[, 1], tsne_out$Y[, 2], col=population$colour, cex=2, asp=1);"
   ]
  },
  {
   "cell_type": "code",
   "execution_count": null,
   "id": "1243bb24",
   "metadata": {},
   "outputs": [],
   "source": [
    "# For publication only\n",
    "\n",
    "#png(\"Figure_tSNE.raw.png\", 600, 300);\n",
    "#plot(tsne_out$Y[, 1], tsne_out$Y[, 2], col=population$colour, cex=2, asp=1);\n",
    "#dev.off();"
   ]
  },
  {
   "cell_type": "markdown",
   "id": "b529c9e0",
   "metadata": {},
   "source": [
    "## Posterior membership probability (not used)"
   ]
  },
  {
   "cell_type": "code",
   "execution_count": null,
   "id": "16b57f62",
   "metadata": {},
   "outputs": [],
   "source": [
    "# Convert to a genlight object\n",
    "\n",
    "gl.mussel <- vcfR2genlight(gt.vcf);\n",
    "ploidy(gl.mussel) <- 2;\n",
    "pop(gl.mussel) <- population$id;\n",
    "\n",
    "gl.mussel;"
   ]
  },
  {
   "cell_type": "code",
   "execution_count": null,
   "id": "65b09920",
   "metadata": {},
   "outputs": [],
   "source": [
    "# DAPC posterior probality assignment\n",
    "\n",
    "gl.dapc <- dapc(gl.mussel, n.pca = 5, n.da = 2);"
   ]
  },
  {
   "cell_type": "code",
   "execution_count": null,
   "id": "60ede2c3",
   "metadata": {},
   "outputs": [],
   "source": [
    "# Prepare resulting matrix\n",
    "\n",
    "dapc.results <- as.data.frame(gl.dapc$posterior);\n",
    "dapc.results$pop <- pop(gl.mussel);\n",
    "dapc.results$indNames <- rownames(dapc.results);\n",
    "\n",
    "dapc.results <- pivot_longer(dapc.results, -c(pop, indNames));\n",
    "\n",
    "dapc.results$colour <- population$colour[match(dapc.results$name, population$id)];\n",
    "colnames(dapc.results) <- c(\"Original_Pop\", \"Sample\", \"Assigned_Pop\", \"Posterior_membership_probability\", \"Colour\");\n",
    "head(dapc.results);\n",
    "\n",
    "col <- matrix(dapc.results$Colour);\n",
    "rownames(col) <- dapc.results$Assigned_Pop;"
   ]
  },
  {
   "cell_type": "code",
   "execution_count": null,
   "id": "abe5ded4",
   "metadata": {},
   "outputs": [],
   "source": [
    "p <- ggplot(dapc.results, aes(x=Sample, y=Posterior_membership_probability, fill=Assigned_Pop));\n",
    "p <- p + geom_bar(stat=\"identity\");\n",
    "p <- p + scale_fill_manual(values=col);\n",
    "p <- p + facet_grid(~Original_Pop, scales = \"free\");\n",
    "p <- p + theme(axis.title.x=element_blank(), axis.text.x=element_blank(), axis.ticks.x=element_blank());\n",
    "p;\n"
   ]
  },
  {
   "cell_type": "code",
   "execution_count": null,
   "id": "dca4c579",
   "metadata": {},
   "outputs": [],
   "source": [
    "# For publication only\n",
    "\n",
    "#png(\"Figure_DAPC.raw.png\", 600, 300);\n",
    "#p;\n",
    "#dev.off();"
   ]
  },
  {
   "cell_type": "code",
   "execution_count": null,
   "id": "569f839a",
   "metadata": {},
   "outputs": [],
   "source": []
  }
 ],
 "metadata": {
  "kernelspec": {
   "display_name": "R",
   "language": "R",
   "name": "ir"
  },
  "language_info": {
   "codemirror_mode": "r",
   "file_extension": ".r",
   "mimetype": "text/x-r-source",
   "name": "R",
   "pygments_lexer": "r",
   "version": "4.2.0"
  }
 },
 "nbformat": 4,
 "nbformat_minor": 5
}
